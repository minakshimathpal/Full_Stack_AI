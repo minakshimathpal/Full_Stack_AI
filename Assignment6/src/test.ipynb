{
 "cells": [
  {
   "cell_type": "code",
   "execution_count": 1,
   "metadata": {},
   "outputs": [
    {
     "name": "stderr",
     "output_type": "stream",
     "text": [
      "c:\\Users\\minakshi.mathpal\\Anaconda3\\envs\\pytorch_env\\lib\\site-packages\\tqdm\\auto.py:21: TqdmWarning: IProgress not found. Please update jupyter and ipywidgets. See https://ipywidgets.readthedocs.io/en/stable/user_install.html\n",
      "  from .autonotebook import tqdm as notebook_tqdm\n"
     ]
    }
   ],
   "source": [
    "\n",
    "import torch\n",
    "import torch.nn as nn\n",
    "import torch.optim as optim\n",
    "import mlflow\n",
    "from torchinfo import summary\n",
    "import mlflow.pytorch\n",
    "from model import Net\n",
    "from datetime import datetime\n",
    "import matplotlib.pyplot as plt\n",
    "import torch.nn.functional as F\n",
    "import numpy as np\n",
    "import yaml\n",
    "import os\n",
    "from tqdm import tqdm\n",
    "from data_loader import load_data"
   ]
  },
  {
   "cell_type": "code",
   "execution_count": 8,
   "metadata": {},
   "outputs": [
    {
     "name": "stdout",
     "output_type": "stream",
     "text": [
      "CUDA Available? False\n"
     ]
    }
   ],
   "source": [
    "SEED = 1\n",
    "\n",
    "# CUDA?\n",
    "cuda = torch.cuda.is_available()\n",
    "print(\"CUDA Available?\", cuda)\n",
    "\n",
    "# For reproducibility\n",
    "torch.manual_seed(SEED)\n",
    "\n",
    "if cuda:\n",
    "    torch.cuda.manual_seed(SEED)\n",
    "\n",
    "BASE_DIR = os.getcwd()\n",
    "MODELS_DIR = os.path.join(BASE_DIR, \"models\")\n",
    "ARTIFACTS_DIR = os.path.join(BASE_DIR, \"artifacts\")   "
   ]
  },
  {
   "cell_type": "code",
   "execution_count": 9,
   "metadata": {},
   "outputs": [],
   "source": [
    "def create_training_plots(train_losses, val_losses, train_accs, val_accs):\n",
    "    # Create figure with two subplots\n",
    "    fig, (ax1, ax2) = plt.subplots(1, 2, figsize=(12, 4))\n",
    "    \n",
    "    # Plot losses\n",
    "    ax1.plot(train_losses, label='Training Loss')\n",
    "    ax1.plot(val_losses, label='Validation Loss')\n",
    "    ax1.set_xlabel('Epoch')\n",
    "    ax1.set_ylabel('Loss')\n",
    "    ax1.set_title('Training and Validation Losses')\n",
    "    ax1.legend()\n",
    "    \n",
    "    # Plot accuracies\n",
    "    ax2.plot(train_accs, label='Training Accuracy')\n",
    "    ax2.plot(val_accs, label='Validation Accuracy')\n",
    "    ax2.set_xlabel('Epoch')\n",
    "    ax2.set_ylabel('Accuracy (%)')\n",
    "    ax2.set_title('Training and Validation Accuracies')\n",
    "    ax2.legend()\n",
    "    \n",
    "    plt.tight_layout()\n",
    "    return fig\n"
   ]
  },
  {
   "cell_type": "code",
   "execution_count": 10,
   "metadata": {},
   "outputs": [],
   "source": [
    "def train_epoch(model, device, train_loader, optimizer,scheduler):\n",
    "    train_losses = []    \n",
    "    train_acc = []\n",
    "    \n",
    "    model.train()\n",
    "    pbar = tqdm(train_loader)\n",
    "    running_loss=0.0\n",
    "    correct = 0\n",
    "    processed = 0\n",
    "    for batch_idx, (data, target) in enumerate(pbar):\n",
    "        # get samples\n",
    "        data, target = data.to(device), target.to(device)\n",
    "                # Init\n",
    "        optimizer.zero_grad()\n",
    "        # In PyTorch, we need to set the gradients to zero before starting to do backpropragation because PyTorch accumulates the gradients on subsequent backward passes. \n",
    "        # Because of this, when you start your training loop, ideally you should zero out the gradients so that you do the parameter update correctly.\n",
    "   # Predict\n",
    "        y_pred = model(data)\n",
    "        # Calculate loss\n",
    "        loss = F.nll_loss(y_pred, target)\n",
    "        l2_lambda = 0.000025\n",
    "        l1_parameters = []\n",
    "        for parameter in model.parameters():\n",
    "            l1_parameters.append(parameter.view(-1))\n",
    "        l1 = l2_lambda * model.compute_l1_loss(torch.cat(l1_parameters))\n",
    "        loss += l1\n",
    "        train_losses.append(loss)\n",
    "        # Backpropagation\n",
    "        loss.backward()\n",
    "        optimizer.step()\n",
    "        scheduler.step()\n",
    "\n",
    "        # Update pbar-tqdm\n",
    "        \n",
    "        pred = y_pred.argmax(dim=1, keepdim=True)  # get the index of the max log-probability\n",
    "        correct += pred.eq(target.view_as(pred)).sum().item()\n",
    "        processed += len(data)\n",
    "        \n",
    "        pbar.set_description(desc= f'LR={optimizer.param_groups[0][\"lr\"]} Loss={loss.item()} Batch_id={batch_idx} Accuracy={100*correct/processed:0.2f}')\n",
    "        train_acc.append(100*correct/processed)\n",
    "    running_loss+=loss.item()    \n",
    "    return running_loss/len(train_loader.dataset), 100. * correct/processed\n",
    "\n",
    "def test(model, device, test_loader):  \n",
    "    test_losses = []  \n",
    "    test_acc = []\n",
    "\n",
    "    model.eval()\n",
    "    test_loss = 0\n",
    "    correct = 0\n",
    "    with torch.no_grad():\n",
    "        for data, target in test_loader:\n",
    "            data, target = data.to(device), target.to(device)\n",
    "            output = model(data)\n",
    "            test_loss += F.nll_loss(output, target, reduction='sum').item()  # sum up batch loss\n",
    "            pred = output.argmax(dim=1, keepdim=True)  # get the index of the max log-probability\n",
    "            correct += pred.eq(target.view_as(pred)).sum().item()\n",
    "\n",
    "    test_loss /= len(test_loader.dataset)\n",
    "    accuracy = 100. * correct / len(test_loader.dataset)\n",
    "\n",
    "    print('\\nTest set: Average loss: {:.4f}, Accuracy: {}/{} ({:.2f}%)\\n'.format(\n",
    "        test_loss, correct, len(test_loader.dataset),\n",
    "        100. * correct / len(test_loader.dataset)))\n",
    "    \n",
    "    test_acc.append(100. * correct / len(test_loader.dataset))\n",
    "    return test_losses,accuracy"
   ]
  },
  {
   "cell_type": "code",
   "execution_count": 12,
   "metadata": {},
   "outputs": [
    {
     "name": "stdout",
     "output_type": "stream",
     "text": [
      "cpu\n",
      "----------------------------------------------------------------\n",
      "        Layer (type)               Output Shape         Param #\n",
      "================================================================\n",
      "            Conv2d-1            [-1, 8, 26, 26]              72\n",
      "              ReLU-2            [-1, 8, 26, 26]               0\n",
      "       BatchNorm2d-3            [-1, 8, 26, 26]              16\n",
      "           Dropout-4            [-1, 8, 26, 26]               0\n",
      "            Conv2d-5            [-1, 8, 24, 24]             576\n",
      "              ReLU-6            [-1, 8, 24, 24]               0\n",
      "       BatchNorm2d-7            [-1, 8, 24, 24]              16\n",
      "           Dropout-8            [-1, 8, 24, 24]               0\n",
      "            Conv2d-9            [-1, 8, 24, 24]              64\n",
      "        MaxPool2d-10            [-1, 8, 12, 12]               0\n",
      "           Conv2d-11           [-1, 10, 10, 10]             720\n",
      "             ReLU-12           [-1, 10, 10, 10]               0\n",
      "      BatchNorm2d-13           [-1, 10, 10, 10]              20\n",
      "          Dropout-14           [-1, 10, 10, 10]               0\n",
      "           Conv2d-15             [-1, 16, 8, 8]           1,440\n",
      "             ReLU-16             [-1, 16, 8, 8]               0\n",
      "      BatchNorm2d-17             [-1, 16, 8, 8]              32\n",
      "          Dropout-18             [-1, 16, 8, 8]               0\n",
      "           Conv2d-19             [-1, 16, 6, 6]           2,304\n",
      "             ReLU-20             [-1, 16, 6, 6]               0\n",
      "      BatchNorm2d-21             [-1, 16, 6, 6]              32\n",
      "          Dropout-22             [-1, 16, 6, 6]               0\n",
      "           Conv2d-23             [-1, 16, 6, 6]           2,304\n",
      "             ReLU-24             [-1, 16, 6, 6]               0\n",
      "      BatchNorm2d-25             [-1, 16, 6, 6]              32\n",
      "          Dropout-26             [-1, 16, 6, 6]               0\n",
      "AdaptiveAvgPool2d-27             [-1, 16, 1, 1]               0\n",
      "          Dropout-28                   [-1, 16]               0\n",
      "           Linear-29                   [-1, 10]             160\n",
      "================================================================\n",
      "Total params: 7,788\n",
      "Trainable params: 7,788\n",
      "Non-trainable params: 0\n",
      "----------------------------------------------------------------\n",
      "Input size (MB): 0.00\n",
      "Forward/backward pass size (MB): 0.45\n",
      "Params size (MB): 0.03\n",
      "Estimated Total Size (MB): 0.48\n",
      "----------------------------------------------------------------\n"
     ]
    }
   ],
   "source": [
    "from torchsummary import summary\n",
    "use_cuda = torch.cuda.is_available()\n",
    "device = torch.device(\"cuda\" if use_cuda else \"cpu\")\n",
    "print(device)\n",
    "model = Net().to(device)\n",
    "summary(model, input_size=(1, 28, 28))"
   ]
  },
  {
   "cell_type": "code",
   "execution_count": 13,
   "metadata": {},
   "outputs": [
    {
     "name": "stdout",
     "output_type": "stream",
     "text": [
      "\n",
      "Using device: cpu\n",
      "Epoch 1\n"
     ]
    },
    {
     "name": "stderr",
     "output_type": "stream",
     "text": [
      "LR=0.0005421928411704223 Loss=0.5021984577178955 Batch_id=468 Accuracy=69.13: 100%|██████████| 469/469 [01:06<00:00,  7.05it/s] \n"
     ]
    },
    {
     "name": "stdout",
     "output_type": "stream",
     "text": [
      "\n",
      "Test set: Average loss: 0.4802, Accuracy: 9474/10000 (94.74%)\n",
      "\n",
      "Epoch 2\n"
     ]
    },
    {
     "name": "stderr",
     "output_type": "stream",
     "text": [
      "LR=0.0015612063714378652 Loss=0.17118574678897858 Batch_id=468 Accuracy=96.00: 100%|██████████| 469/469 [01:08<00:00,  6.82it/s]\n"
     ]
    },
    {
     "name": "stdout",
     "output_type": "stream",
     "text": [
      "\n",
      "Test set: Average loss: 0.1029, Accuracy: 9737/10000 (97.37%)\n",
      "\n",
      "Epoch 3\n"
     ]
    },
    {
     "name": "stderr",
     "output_type": "stream",
     "text": [
      "LR=0.0025795125108930036 Loss=0.062479373067617416 Batch_id=468 Accuracy=97.56: 100%|██████████| 469/469 [01:07<00:00,  6.91it/s]\n"
     ]
    },
    {
     "name": "stdout",
     "output_type": "stream",
     "text": [
      "\n",
      "Test set: Average loss: 0.0502, Accuracy: 9865/10000 (98.65%)\n",
      "\n",
      "Epoch 4\n"
     ]
    },
    {
     "name": "stderr",
     "output_type": "stream",
     "text": [
      "LR=0.0029999998685507905 Loss=0.0868898257613182 Batch_id=468 Accuracy=98.03: 100%|██████████| 469/469 [01:11<00:00,  6.55it/s]  \n"
     ]
    },
    {
     "name": "stdout",
     "output_type": "stream",
     "text": [
      "\n",
      "Test set: Average loss: 0.0429, Accuracy: 9868/10000 (98.68%)\n",
      "\n",
      "Epoch 5\n"
     ]
    },
    {
     "name": "stderr",
     "output_type": "stream",
     "text": [
      "LR=0.002971056435944751 Loss=0.14267203211784363 Batch_id=468 Accuracy=98.38: 100%|██████████| 469/469 [01:05<00:00,  7.11it/s]  \n"
     ]
    },
    {
     "name": "stdout",
     "output_type": "stream",
     "text": [
      "\n",
      "Test set: Average loss: 0.0316, Accuracy: 9907/10000 (99.07%)\n",
      "\n",
      "Epoch 6\n"
     ]
    },
    {
     "name": "stderr",
     "output_type": "stream",
     "text": [
      "LR=0.00288558343524966 Loss=0.08560457825660706 Batch_id=468 Accuracy=98.53: 100%|██████████| 469/469 [01:16<00:00,  6.10it/s]   \n"
     ]
    },
    {
     "name": "stdout",
     "output_type": "stream",
     "text": [
      "\n",
      "Test set: Average loss: 0.0327, Accuracy: 9907/10000 (99.07%)\n",
      "\n",
      "Epoch 7\n"
     ]
    },
    {
     "name": "stderr",
     "output_type": "stream",
     "text": [
      "LR=0.0027468655459484182 Loss=0.06435062736272812 Batch_id=468 Accuracy=98.65: 100%|██████████| 469/469 [01:09<00:00,  6.71it/s] \n"
     ]
    },
    {
     "name": "stdout",
     "output_type": "stream",
     "text": [
      "\n",
      "Test set: Average loss: 0.0320, Accuracy: 9894/10000 (98.94%)\n",
      "\n",
      "Epoch 8\n"
     ]
    },
    {
     "name": "stderr",
     "output_type": "stream",
     "text": [
      "LR=0.0025602336187329853 Loss=0.03931136429309845 Batch_id=468 Accuracy=98.75: 100%|██████████| 469/469 [01:06<00:00,  7.05it/s] \n"
     ]
    },
    {
     "name": "stdout",
     "output_type": "stream",
     "text": [
      "\n",
      "Test set: Average loss: 0.0326, Accuracy: 9898/10000 (98.98%)\n",
      "\n",
      "Epoch 9\n"
     ]
    },
    {
     "name": "stderr",
     "output_type": "stream",
     "text": [
      "LR=0.0023328598139018583 Loss=0.045134492218494415 Batch_id=468 Accuracy=98.81: 100%|██████████| 469/469 [01:23<00:00,  5.64it/s]\n"
     ]
    },
    {
     "name": "stdout",
     "output_type": "stream",
     "text": [
      "\n",
      "Test set: Average loss: 0.0252, Accuracy: 9917/10000 (99.17%)\n",
      "\n",
      "Epoch 10\n"
     ]
    },
    {
     "name": "stderr",
     "output_type": "stream",
     "text": [
      "LR=0.002073481979262 Loss=0.08390370011329651 Batch_id=468 Accuracy=98.91: 100%|██████████| 469/469 [01:10<00:00,  6.65it/s]     \n"
     ]
    },
    {
     "name": "stdout",
     "output_type": "stream",
     "text": [
      "\n",
      "Test set: Average loss: 0.0237, Accuracy: 9926/10000 (99.26%)\n",
      "\n",
      "Epoch 11\n"
     ]
    },
    {
     "name": "stderr",
     "output_type": "stream",
     "text": [
      "LR=0.0017920678595378524 Loss=0.0320991575717926 Batch_id=468 Accuracy=98.93: 100%|██████████| 469/469 [01:06<00:00,  7.11it/s]  \n"
     ]
    },
    {
     "name": "stdout",
     "output_type": "stream",
     "text": [
      "\n",
      "Test set: Average loss: 0.0239, Accuracy: 9925/10000 (99.25%)\n",
      "\n",
      "Epoch 12\n"
     ]
    },
    {
     "name": "stderr",
     "output_type": "stream",
     "text": [
      "LR=0.0014994320415315603 Loss=0.05795872583985329 Batch_id=468 Accuracy=99.11: 100%|██████████| 469/469 [01:15<00:00,  6.25it/s] \n"
     ]
    },
    {
     "name": "stdout",
     "output_type": "stream",
     "text": [
      "\n",
      "Test set: Average loss: 0.0244, Accuracy: 9929/10000 (99.29%)\n",
      "\n",
      "Epoch 13\n"
     ]
    },
    {
     "name": "stderr",
     "output_type": "stream",
     "text": [
      "LR=0.001206820355617047 Loss=0.058760322630405426 Batch_id=468 Accuracy=99.15: 100%|██████████| 469/469 [01:09<00:00,  6.76it/s] \n"
     ]
    },
    {
     "name": "stdout",
     "output_type": "stream",
     "text": [
      "\n",
      "Test set: Average loss: 0.0224, Accuracy: 9935/10000 (99.35%)\n",
      "\n",
      "Epoch 14\n"
     ]
    },
    {
     "name": "stderr",
     "output_type": "stream",
     "text": [
      "LR=0.0009254777047854836 Loss=0.06829403340816498 Batch_id=468 Accuracy=99.25: 100%|██████████| 469/469 [01:24<00:00,  5.52it/s] \n"
     ]
    },
    {
     "name": "stdout",
     "output_type": "stream",
     "text": [
      "\n",
      "Test set: Average loss: 0.0193, Accuracy: 9933/10000 (99.33%)\n",
      "\n",
      "Epoch 15\n"
     ]
    },
    {
     "name": "stderr",
     "output_type": "stream",
     "text": [
      "LR=0.0006662159293295504 Loss=0.03210628405213356 Batch_id=468 Accuracy=99.35: 100%|██████████| 469/469 [01:16<00:00,  6.14it/s] \n"
     ]
    },
    {
     "name": "stdout",
     "output_type": "stream",
     "text": [
      "\n",
      "Test set: Average loss: 0.0195, Accuracy: 9938/10000 (99.38%)\n",
      "\n",
      "Epoch 16\n"
     ]
    },
    {
     "name": "stderr",
     "output_type": "stream",
     "text": [
      "LR=0.0004389983138843405 Loss=0.04217803105711937 Batch_id=468 Accuracy=99.35: 100%|██████████| 469/469 [01:04<00:00,  7.27it/s]  \n"
     ]
    },
    {
     "name": "stdout",
     "output_type": "stream",
     "text": [
      "\n",
      "Test set: Average loss: 0.0179, Accuracy: 9938/10000 (99.38%)\n",
      "\n",
      "Epoch 17\n"
     ]
    },
    {
     "name": "stderr",
     "output_type": "stream",
     "text": [
      "LR=0.0002525567039863061 Loss=0.03159928321838379 Batch_id=468 Accuracy=99.43: 100%|██████████| 469/469 [01:08<00:00,  6.82it/s]  \n"
     ]
    },
    {
     "name": "stdout",
     "output_type": "stream",
     "text": [
      "\n",
      "Test set: Average loss: 0.0171, Accuracy: 9944/10000 (99.44%)\n",
      "\n",
      "Epoch 18\n"
     ]
    },
    {
     "name": "stderr",
     "output_type": "stream",
     "text": [
      "LR=0.00011405594614616988 Loss=0.02245166525244713 Batch_id=468 Accuracy=99.50: 100%|██████████| 469/469 [01:10<00:00,  6.62it/s] \n"
     ]
    },
    {
     "name": "stdout",
     "output_type": "stream",
     "text": [
      "\n",
      "Test set: Average loss: 0.0174, Accuracy: 9942/10000 (99.42%)\n",
      "\n",
      "Epoch 19\n"
     ]
    },
    {
     "name": "stderr",
     "output_type": "stream",
     "text": [
      "LR=2.8818546815607874e-05 Loss=0.020406100898981094 Batch_id=468 Accuracy=99.52: 100%|██████████| 469/469 [01:10<00:00,  6.61it/s]\n"
     ]
    },
    {
     "name": "stdout",
     "output_type": "stream",
     "text": [
      "\n",
      "Test set: Average loss: 0.0168, Accuracy: 9941/10000 (99.41%)\n",
      "\n",
      "Epoch 20\n"
     ]
    },
    {
     "name": "stderr",
     "output_type": "stream",
     "text": [
      "LR=1.2013144920979888e-07 Loss=0.020385373383760452 Batch_id=468 Accuracy=99.53: 100%|██████████| 469/469 [01:19<00:00,  5.89it/s]\n"
     ]
    },
    {
     "name": "stdout",
     "output_type": "stream",
     "text": [
      "\n",
      "Test set: Average loss: 0.0167, Accuracy: 9942/10000 (99.42%)\n",
      "\n"
     ]
    },
    {
     "data": {
      "image/png": "[encoded data removed]",
      "text/plain": [
       "<Figure size 1200x400 with 2 Axes>"
      ]
     },
     "metadata": {},
     "output_type": "display_data"
    }
   ],
   "source": [
    "device = torch.device(\"cuda\" if torch.cuda.is_available() else \"cpu\")\n",
    "print(f\"\\nUsing device: {device}\")\n",
    "# Create model by passing entire config\n",
    "model = Net().to(device)\n",
    "# criterion = get_loss_function(config)\n",
    "\n",
    "train_loader, test_loader = load_data()\n",
    "EPOCHS=20\n",
    "optimizer = optim.Adam(model.parameters(), lr=0.001, weight_decay=5e-5)\n",
    "scheduler = optim.lr_scheduler.OneCycleLR(\n",
    "        optimizer,\n",
    "        max_lr=0.003,\n",
    "        epochs=EPOCHS,\n",
    "        steps_per_epoch=len(train_loader),\n",
    "        pct_start=0.2,\n",
    "        anneal_strategy='cos',\n",
    "        div_factor=25.0,\n",
    "        final_div_factor=1000.0\n",
    "    )\n",
    "sch_dict = scheduler.state_dict()\n",
    "sch_dict['total_steps'] = sch_dict['total_steps'] + EPOCHS * int(len(train_loader))\n",
    "scheduler.load_state_dict(sch_dict)\n",
    "losses = {\"train\": [], \"val\": []}\n",
    "accuracy = {\"train\": [], \"val\": []}\n",
    "for epoch in range(20):\n",
    "    print(f\"Epoch {epoch+1}\")\n",
    "    train_epoch_loss,train_epoch_accuracy=train_epoch(model,device,train_loader,optimizer,scheduler)\n",
    "    val_epoch_loss,val_epoch_accuracy = test(model=model,test_loader=test_loader,device=device)\n",
    "    \n",
    "    losses[\"train\"].append(train_epoch_loss)\n",
    "    accuracy[\"train\"].append(train_epoch_accuracy)\n",
    "\n",
    "    losses[\"val\"].append(val_epoch_loss)\n",
    "    accuracy[\"val\"].append(val_epoch_accuracy)\n",
    "fig = create_training_plots(losses[\"train\"], losses[\"val\"], accuracy[\"train\"], accuracy[\"val\"])\n",
    "\n",
    "if not os.path.exists(ARTIFACTS_DIR):\n",
    "    os.makedirs(ARTIFACTS_DIR)\n",
    "plt.savefig(os.path.join(ARTIFACTS_DIR, \"training_plots.png\"))\n",
    "\n",
    "timestamp = datetime.now().strftime(\"%Y%m%d_%H%M%S\")\n",
    "if not os.path.exists(MODELS_DIR):\n",
    "    os.makedirs(MODELS_DIR)\n",
    "torch.save(model.state_dict(), os.path.join(MODELS_DIR, f\"model_{timestamp}.pth\"))"
   ]
  },
  {
   "cell_type": "code",
   "execution_count": null,
   "metadata": {},
   "outputs": [],
   "source": []
  },
  {
   "cell_type": "code",
   "execution_count": null,
   "metadata": {},
   "outputs": [],
   "source": []
  }
 ],
 "metadata": {
  "kernelspec": {
   "display_name": "pytorch_env",
   "language": "python",
   "name": "python3"
  },
  "language_info": {
   "codemirror_mode": {
    "name": "ipython",
    "version": 3
   },
   "file_extension": ".py",
   "mimetype": "text/x-python",
   "name": "python",
   "nbconvert_exporter": "python",
   "pygments_lexer": "ipython3",
   "version": "3.10.15"
  }
 },
 "nbformat": 4,
 "nbformat_minor": 2
}
