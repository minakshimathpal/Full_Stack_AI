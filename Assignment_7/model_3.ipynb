{
 "cells": [
  {
   "cell_type": "code",
   "execution_count": 1,
   "metadata": {},
   "outputs": [
    {
     "name": "stderr",
     "output_type": "stream",
     "text": [
      "c:\\Users\\minakshi.mathpal\\Anaconda3\\envs\\pytorch_env\\lib\\site-packages\\tqdm\\auto.py:21: TqdmWarning: IProgress not found. Please update jupyter and ipywidgets. See https://ipywidgets.readthedocs.io/en/stable/user_install.html\n",
      "  from .autonotebook import tqdm as notebook_tqdm\n"
     ]
    }
   ],
   "source": [
    "from __future__ import print_function\n",
    "import torch\n",
    "import torch.nn as nn\n",
    "import torch.nn.functional as F\n",
    "import torch.optim as optim\n",
    "from torchvision import datasets, transforms\n",
    "from torch.utils.data import DataLoader"
   ]
  },
  {
   "cell_type": "code",
   "execution_count": 2,
   "metadata": {},
   "outputs": [
    {
     "name": "stdout",
     "output_type": "stream",
     "text": [
      "CUDA Available? True\n"
     ]
    }
   ],
   "source": [
    "SEED = 1\n",
    "\n",
    "# CUDA?\n",
    "cuda = torch.cuda.is_available()\n",
    "print(\"CUDA Available?\", cuda)\n",
    "\n",
    "# For reproducibility\n",
    "torch.manual_seed(SEED)\n",
    "\n",
    "if cuda:\n",
    "    torch.cuda.manual_seed(SEED)"
   ]
  },
  {
   "cell_type": "code",
   "execution_count": 4,
   "metadata": {},
   "outputs": [],
   "source": [
    "def load_data():\n",
    "    train_transform = transforms.Compose([\n",
    "        transforms.RandomRotation((-5.0, 5.0), fill=(1,)),\n",
    "        transforms.RandomAffine(\n",
    "            degrees=0,\n",
    "            translate=(0.05, 0.05),\n",
    "            scale=(0.98, 1.02)\n",
    "        ),\n",
    "        transforms.ToTensor(),\n",
    "        transforms.Normalize((0.1307,), (0.3081,))\n",
    "    ])\n",
    "\n",
    "    test_transform = transforms.Compose([\n",
    "        transforms.ToTensor(),\n",
    "        transforms.Normalize((0.1307,), (0.3081,))\n",
    "    ])\n",
    "\n",
    "    train_data = datasets.MNIST('data', train=True, download=True, transform=train_transform)\n",
    "    test_data = datasets.MNIST('data', train=False, transform=test_transform)\n",
    "\n",
    "    dataloader_args = dict(\n",
    "        batch_size=128,\n",
    "        num_workers=4,\n",
    "        pin_memory=True,\n",
    "        shuffle=True\n",
    "    )\n",
    "\n",
    "    train_loader = DataLoader(train_data, **dataloader_args)\n",
    "    test_loader = DataLoader(test_data, **dataloader_args)\n",
    "\n",
    "    return train_loader, test_loader\n",
    "\n",
    "\n",
    "# Load data\n",
    "train_loader, test_loader = load_data()"
   ]
  },
  {
   "cell_type": "markdown",
   "metadata": {},
   "source": [
    "## Data Statistics"
   ]
  },
  {
   "cell_type": "code",
   "execution_count": 2,
   "metadata": {},
   "outputs": [],
   "source": [
    "# Train Phase transformations\n",
    "train_transforms = transforms.Compose([\n",
    "        transforms.RandomRotation((-5.0, 5.0), fill=(1,)),\n",
    "        transforms.RandomAffine(\n",
    "            degrees=0,\n",
    "            translate=(0.05, 0.05),\n",
    "            scale=(0.98, 1.02)\n",
    "        ),\n",
    "        transforms.ToTensor(),\n",
    "        transforms.Normalize((0.1307,), (0.3081,))\n",
    "    ])\n",
    "\n",
    "# Test Phase transformations\n",
    "test_transforms = transforms.Compose([\n",
    "                                      #  transforms.Resize((28, 28)),\n",
    "                                      #  transforms.ColorJitter(brightness=0.10, contrast=0.1, saturation=0.10, hue=0.1),\n",
    "                                       transforms.ToTensor(),\n",
    "                                       transforms.Normalize((0.1307,), (0.3081,))\n",
    "                                       ])"
   ]
  },
  {
   "cell_type": "code",
   "execution_count": 5,
   "metadata": {},
   "outputs": [
    {
     "name": "stdout",
     "output_type": "stream",
     "text": [
      "[Train]\n",
      " - Numpy Shape: (60000, 28, 28)\n",
      " - Tensor Shape: torch.Size([60000, 28, 28])\n",
      " - min: tensor(0.)\n",
      " - max: tensor(255.)\n",
      " - mean: tensor(33.3184)\n",
      " - std: tensor(78.5675)\n",
      " - var: tensor(6172.8506)\n",
      "torch.Size([128, 1, 28, 28])\n",
      "torch.Size([128])\n"
     ]
    },
    {
     "data": {
      "image/png": "[encoded data removed]",
      "text/plain": [
       "<Figure size 640x480 with 1 Axes>"
      ]
     },
     "metadata": {},
     "output_type": "display_data"
    }
   ],
   "source": [
    "train = datasets.MNIST('./data', train=True, download=True, transform=train_transforms)\n",
    "test = datasets.MNIST('./data', train=False, download=True, transform=test_transforms)\n",
    "train_data = train.data.float()  # Convert to float before calculating statistics\n",
    "train_labels = train.targets  # For MNIST dataset\n",
    "\n",
    "print('[Train]')\n",
    "print(' - Numpy Shape:', train.data.cpu().numpy().shape)\n",
    "print(' - Tensor Shape:', train.data.size())\n",
    "print(' - min:', torch.min(train_data))\n",
    "print(' - max:', torch.max(train_data))\n",
    "print(' - mean:', torch.mean(train_data))\n",
    "print(' - std:', torch.std(train_data))\n",
    "print(' - var:', torch.var(train_data))\n",
    "dataiter = iter(train_loader)\n",
    "images, labels = next(dataiter)\n",
    "\n",
    "print(images.shape)\n",
    "print(labels.shape)\n",
    "\n",
    "# Let's visualize some of the images\n",
    "%matplotlib inline\n",
    "import matplotlib.pyplot as plt\n",
    "\n",
    "plt.imshow(images[0].squeeze(), cmap='gray_r')  # `.squeeze()` removes singleton dimensions (if any)\n",
    "plt.show()"
   ]
  },
  {
   "cell_type": "code",
   "execution_count": 6,
   "metadata": {},
   "outputs": [
    {
     "data": {
      "image/png": "[encoded data removed]",
      "text/plain": [
       "<Figure size 640x480 with 60 Axes>"
      ]
     },
     "metadata": {},
     "output_type": "display_data"
    }
   ],
   "source": [
    "figure = plt.figure()\n",
    "num_of_images = 60\n",
    "for index in range(1, num_of_images + 1):\n",
    "    plt.subplot(6, 10, index)\n",
    "    plt.axis('off')\n",
    "    plt.imshow(images[index].numpy().squeeze(), cmap='gray_r')"
   ]
  },
  {
   "cell_type": "code",
   "execution_count": 18,
   "metadata": {},
   "outputs": [],
   "source": [
    "from tqdm import tqdm\n",
    "\n",
    "train_losses = []\n",
    "test_losses = []\n",
    "train_acc = []\n",
    "test_acc = []\n",
    "\n",
    "def train(model, device, train_loader, optimizer,scheduler):\n",
    "  model.train()\n",
    "  pbar = tqdm(train_loader)\n",
    "  correct = 0\n",
    "  processed = 0\n",
    "  for batch_idx, (data, target) in enumerate(pbar):\n",
    "    # get samples\n",
    "    data, target = data.to(device), target.to(device)\n",
    "\n",
    "    # Init\n",
    "    optimizer.zero_grad()\n",
    "    # In PyTorch, we need to set the gradients to zero before starting to do backpropragation because PyTorch accumulates the gradients on subsequent backward passes.\n",
    "    # Because of this, when you start your training loop, ideally you should zero out the gradients so that you do the parameter update correctly.\n",
    "\n",
    "    # Predict\n",
    "    y_pred = model(data)\n",
    "\n",
    "    # Calculate loss\n",
    "    loss = F.nll_loss(y_pred, target)\n",
    "    train_losses.append(loss)\n",
    "    # Backpropagation\n",
    "    loss.backward()\n",
    "    optimizer.step()\n",
    "    scheduler.step()\n",
    "\n",
    "    # Update pbar-tqdm\n",
    "\n",
    "    pred = y_pred.argmax(dim=1, keepdim=True)  # get the index of the max log-probability\n",
    "    correct += pred.eq(target.view_as(pred)).sum().item()\n",
    "    processed += len(data)\n",
    "\n",
    "    pbar.set_description(desc= f'LR={optimizer.param_groups[0][\"lr\"]} Loss={loss.item()} Batch_id={batch_idx} Accuracy={100*correct/processed:0.2f}')\n",
    "    train_acc.append(100*correct/processed)\n",
    "\n",
    "def test(model, device, test_loader):\n",
    "    model.eval()\n",
    "    test_loss = 0\n",
    "    correct = 0\n",
    "    with torch.no_grad():\n",
    "        for data, target in test_loader:\n",
    "            data, target = data.to(device), target.to(device)\n",
    "            output = model(data)\n",
    "            test_loss += F.nll_loss(output, target, reduction='sum').item()  # sum up batch loss\n",
    "            pred = output.argmax(dim=1, keepdim=True)  # get the index of the max log-probability\n",
    "            correct += pred.eq(target.view_as(pred)).sum().item()\n",
    "\n",
    "    test_loss /= len(test_loader.dataset)\n",
    "    test_losses.append(test_loss)\n",
    "\n",
    "    print('\\nTest set: Average loss: {:.4f}, Accuracy: {}/{} ({:.2f}%)\\n'.format(\n",
    "        test_loss, correct, len(test_loader.dataset),\n",
    "        100. * correct / len(test_loader.dataset)))\n",
    "\n",
    "    test_acc.append(100. * correct / len(test_loader.dataset))"
   ]
  },
  {
   "cell_type": "code",
   "execution_count": 19,
   "metadata": {},
   "outputs": [],
   "source": [
    "import torch\n",
    "import torch.nn as nn\n",
    "import torch.nn.functional as F\n",
    "import torch.optim as optim\n",
    "from torchvision import transforms, datasets\n",
    "\n",
    "\n",
    "class SimpleMnistModel(nn.Module):\n",
    "    def __init__(self,dropout_rate=0.01):\n",
    "        \"\"\"\n",
    "        Initialize the model with parameters from config\n",
    "        Args:\n",
    "            config: Dictionary containing model configuration\n",
    "        \"\"\"\n",
    "        super().__init__()\n",
    "        self.dropout_rate=dropout_rate\n",
    "        # Input Block\n",
    "        self.conv0 = nn.Sequential(\n",
    "            nn.Conv2d(in_channels=1, out_channels=8, kernel_size=(3, 3), padding=0, bias=False),\n",
    "            nn.ReLU(),\n",
    "            nn.BatchNorm2d(8),\n",
    "            nn.Dropout(self.dropout_rate),\n",
    "        )\n",
    "        # CONVOLUTION BLOCK 1\n",
    "        self.conv1= nn.Sequential(\n",
    "            nn.Conv2d(8, 10, kernel_size=(3, 3), padding=0, bias=False),\n",
    "            nn.ReLU(),\n",
    "            nn.BatchNorm2d(10),\n",
    "            nn.Dropout(self.dropout_rate),\n",
    "        )\n",
    "        self.conv2= nn.Sequential(\n",
    "            nn.Conv2d(10, 12, kernel_size=(3, 3), padding=0, bias=False),\n",
    "            nn.ReLU(),\n",
    "            nn.BatchNorm2d(12),\n",
    "            nn.Dropout(self.dropout_rate),\n",
    "        )\n",
    "\n",
    "        # CONVOLUTION BLOCK 2\n",
    "        self.conv3= nn.Sequential(\n",
    "            nn.Conv2d(12, 15, kernel_size=3, stride=1,padding=1, bias=False),\n",
    "            nn.ReLU(),\n",
    "            nn.BatchNorm2d(15),\n",
    "            nn.Dropout(self.dropout_rate)\n",
    "        )\n",
    "        self.pool1=nn.MaxPool2d(kernel_size=2, stride=2)\n",
    "\n",
    "         # CONVOLUTION BLOCK 2\n",
    "        self.conv4= nn.Sequential(\n",
    "            nn.Conv2d(15, 15, kernel_size=(3, 3), padding=0, bias=False),\n",
    "            nn.ReLU(),\n",
    "            nn.BatchNorm2d(15),\n",
    "            nn.Dropout(self.dropout_rate),\n",
    "        )\n",
    "\n",
    "        self.pool2=nn.Sequential(nn.MaxPool2d(kernel_size=2, stride=2))\n",
    "\n",
    "        self.gap=nn.Sequential(\n",
    "            nn.AdaptiveAvgPool2d(1)\n",
    "        )\n",
    "        self.fc= nn.Conv2d(15, 10, kernel_size=1, stride=1)\n",
    "\n",
    "    def forward(self, x):\n",
    "        x= self.conv0(x)\n",
    "        x= self.conv1(x)\n",
    "        x= self.pool1(x)\n",
    "        x= self.conv2(x)\n",
    "        x= self.conv3(x)\n",
    "        x= self.pool2(x)\n",
    "        x= self.conv4(x)\n",
    "        x= self.gap(x)\n",
    "        x= self.fc(x)\n",
    "        x = x.view(-1, 10)\n",
    "        return F.log_softmax(x,dim=1)\n",
    "\n",
    "    def compute_l1_loss(self, w):\n",
    "        return torch.abs(w).sum()\n"
   ]
  },
  {
   "cell_type": "code",
   "execution_count": 20,
   "metadata": {},
   "outputs": [
    {
     "name": "stdout",
     "output_type": "stream",
     "text": [
      "Requirement already satisfied: torchsummary in /opt/conda/envs/pytorch/lib/python3.11/site-packages (1.5.1)\n",
      "cuda\n",
      "----------------------------------------------------------------\n",
      "        Layer (type)               Output Shape         Param #\n",
      "================================================================\n",
      "            Conv2d-1            [-1, 8, 26, 26]              72\n",
      "              ReLU-2            [-1, 8, 26, 26]               0\n",
      "       BatchNorm2d-3            [-1, 8, 26, 26]              16\n",
      "           Dropout-4            [-1, 8, 26, 26]               0\n",
      "            Conv2d-5           [-1, 10, 24, 24]             720\n",
      "              ReLU-6           [-1, 10, 24, 24]               0\n",
      "       BatchNorm2d-7           [-1, 10, 24, 24]              20\n",
      "           Dropout-8           [-1, 10, 24, 24]               0\n",
      "         MaxPool2d-9           [-1, 10, 12, 12]               0\n",
      "           Conv2d-10           [-1, 12, 10, 10]           1,080\n",
      "             ReLU-11           [-1, 12, 10, 10]               0\n",
      "      BatchNorm2d-12           [-1, 12, 10, 10]              24\n",
      "          Dropout-13           [-1, 12, 10, 10]               0\n",
      "           Conv2d-14           [-1, 15, 10, 10]           1,620\n",
      "             ReLU-15           [-1, 15, 10, 10]               0\n",
      "      BatchNorm2d-16           [-1, 15, 10, 10]              30\n",
      "          Dropout-17           [-1, 15, 10, 10]               0\n",
      "        MaxPool2d-18             [-1, 15, 5, 5]               0\n",
      "           Conv2d-19             [-1, 15, 3, 3]           2,025\n",
      "             ReLU-20             [-1, 15, 3, 3]               0\n",
      "      BatchNorm2d-21             [-1, 15, 3, 3]              30\n",
      "          Dropout-22             [-1, 15, 3, 3]               0\n",
      "AdaptiveAvgPool2d-23             [-1, 15, 1, 1]               0\n",
      "           Conv2d-24             [-1, 10, 1, 1]             160\n",
      "================================================================\n",
      "Total params: 5,797\n",
      "Trainable params: 5,797\n",
      "Non-trainable params: 0\n",
      "----------------------------------------------------------------\n",
      "Input size (MB): 0.00\n",
      "Forward/backward pass size (MB): 0.44\n",
      "Params size (MB): 0.02\n",
      "Estimated Total Size (MB): 0.47\n",
      "----------------------------------------------------------------\n"
     ]
    }
   ],
   "source": [
    "!pip install torchsummary\n",
    "from torchsummary import summary\n",
    "use_cuda = torch.cuda.is_available()\n",
    "device = torch.device(\"cuda\" if use_cuda else \"cpu\")\n",
    "print(device)\n",
    "model = SimpleMnistModel().to(device)\n",
    "summary(model, input_size=(1, 28, 28))"
   ]
  },
  {
   "cell_type": "code",
   "execution_count": 32,
   "metadata": {},
   "outputs": [],
   "source": [
    "from io import StringIO\n",
    "import sys\n",
    "\n",
    "# Redirect stdout to a buffer\n",
    "original_stdout = sys.stdout\n",
    "summary_buffer = StringIO()\n",
    "sys.stdout = summary_buffer\n",
    "\n",
    "# Generate the summary\n",
    "summary(model, input_size=(1, 28, 28))\n",
    "\n",
    "# Restore stdout and write summary to a file\n",
    "sys.stdout = original_stdout\n",
    "with open('model_3_summary.txt', 'w') as f:\n",
    "    f.write(summary_buffer.getvalue())"
   ]
  },
  {
   "cell_type": "code",
   "execution_count": 7,
   "metadata": {},
   "outputs": [
    {
     "name": "stdout",
     "output_type": "stream",
     "text": [
      "EPOCH: 0\n"
     ]
    },
    {
     "name": "stderr",
     "output_type": "stream",
     "text": [
      "LR=0.000840929030019079 Loss=0.4353465139865875 Batch_id=468 Accuracy=66.27: 100%|██████████| 469/469 [00:06<00:00, 70.18it/s]  \n"
     ]
    },
    {
     "name": "stdout",
     "output_type": "stream",
     "text": [
      "\n",
      "Test set: Average loss: 0.3768, Accuracy: 9529/10000 (95.29%)\n",
      "\n",
      "EPOCH: 1\n"
     ]
    },
    {
     "name": "stderr",
     "output_type": "stream",
     "text": [
      "LR=0.002281856861292636 Loss=0.09197524935007095 Batch_id=468 Accuracy=96.11: 100%|██████████| 469/469 [00:06<00:00, 73.18it/s] \n"
     ]
    },
    {
     "name": "stdout",
     "output_type": "stream",
     "text": [
      "\n",
      "Test set: Average loss: 0.0844, Accuracy: 9806/10000 (98.06%)\n",
      "\n",
      "EPOCH: 2\n"
     ]
    },
    {
     "name": "stderr",
     "output_type": "stream",
     "text": [
      "LR=0.002999999766312519 Loss=0.03992077335715294 Batch_id=468 Accuracy=97.67: 100%|██████████| 469/469 [00:06<00:00, 75.81it/s]  \n"
     ]
    },
    {
     "name": "stdout",
     "output_type": "stream",
     "text": [
      "\n",
      "Test set: Average loss: 0.0552, Accuracy: 9846/10000 (98.46%)\n",
      "\n",
      "EPOCH: 3\n"
     ]
    },
    {
     "name": "stderr",
     "output_type": "stream",
     "text": [
      "LR=0.0029486738546826213 Loss=0.04931224510073662 Batch_id=468 Accuracy=98.19: 100%|██████████| 469/469 [00:06<00:00, 75.19it/s] \n"
     ]
    },
    {
     "name": "stdout",
     "output_type": "stream",
     "text": [
      "\n",
      "Test set: Average loss: 0.0495, Accuracy: 9856/10000 (98.56%)\n",
      "\n",
      "EPOCH: 4\n"
     ]
    },
    {
     "name": "stderr",
     "output_type": "stream",
     "text": [
      "LR=0.0027986273028036877 Loss=0.1120648980140686 Batch_id=468 Accuracy=98.36: 100%|██████████| 469/469 [00:06<00:00, 75.44it/s]  \n"
     ]
    },
    {
     "name": "stdout",
     "output_type": "stream",
     "text": [
      "\n",
      "Test set: Average loss: 0.0329, Accuracy: 9906/10000 (99.06%)\n",
      "\n",
      "EPOCH: 5\n"
     ]
    },
    {
     "name": "stderr",
     "output_type": "stream",
     "text": [
      "LR=0.002560085535222616 Loss=0.018109245225787163 Batch_id=468 Accuracy=98.56: 100%|██████████| 469/469 [00:06<00:00, 74.83it/s] \n"
     ]
    },
    {
     "name": "stdout",
     "output_type": "stream",
     "text": [
      "\n",
      "Test set: Average loss: 0.0297, Accuracy: 9899/10000 (98.99%)\n",
      "\n",
      "EPOCH: 6\n"
     ]
    },
    {
     "name": "stderr",
     "output_type": "stream",
     "text": [
      "LR=0.002249304779191147 Loss=0.0489172637462616 Batch_id=468 Accuracy=98.73: 100%|██████████| 469/469 [00:06<00:00, 74.69it/s]   \n"
     ]
    },
    {
     "name": "stdout",
     "output_type": "stream",
     "text": [
      "\n",
      "Test set: Average loss: 0.0314, Accuracy: 9903/10000 (99.03%)\n",
      "\n",
      "EPOCH: 7\n"
     ]
    },
    {
     "name": "stderr",
     "output_type": "stream",
     "text": [
      "LR=0.001887464229643342 Loss=0.05918693169951439 Batch_id=468 Accuracy=98.86: 100%|██████████| 469/469 [00:06<00:00, 75.47it/s]   \n"
     ]
    },
    {
     "name": "stdout",
     "output_type": "stream",
     "text": [
      "\n",
      "Test set: Average loss: 0.0251, Accuracy: 9916/10000 (99.16%)\n",
      "\n",
      "EPOCH: 8\n"
     ]
    },
    {
     "name": "stderr",
     "output_type": "stream",
     "text": [
      "LR=0.0014992227220611033 Loss=0.021669449284672737 Batch_id=468 Accuracy=98.96: 100%|██████████| 469/469 [00:06<00:00, 74.61it/s] \n"
     ]
    },
    {
     "name": "stdout",
     "output_type": "stream",
     "text": [
      "\n",
      "Test set: Average loss: 0.0234, Accuracy: 9922/10000 (99.22%)\n",
      "\n",
      "EPOCH: 9\n"
     ]
    },
    {
     "name": "stderr",
     "output_type": "stream",
     "text": [
      "LR=0.0011110382735867337 Loss=0.012095938436686993 Batch_id=468 Accuracy=98.99: 100%|██████████| 469/469 [00:06<00:00, 75.88it/s] \n"
     ]
    },
    {
     "name": "stdout",
     "output_type": "stream",
     "text": [
      "\n",
      "Test set: Average loss: 0.0220, Accuracy: 9935/10000 (99.35%)\n",
      "\n",
      "EPOCH: 10\n"
     ]
    },
    {
     "name": "stderr",
     "output_type": "stream",
     "text": [
      "LR=0.0007493650128786283 Loss=0.007393062114715576 Batch_id=468 Accuracy=99.14: 100%|██████████| 469/469 [00:06<00:00, 75.28it/s] \n"
     ]
    },
    {
     "name": "stdout",
     "output_type": "stream",
     "text": [
      "\n",
      "Test set: Average loss: 0.0210, Accuracy: 9932/10000 (99.32%)\n",
      "\n",
      "EPOCH: 11\n"
     ]
    },
    {
     "name": "stderr",
     "output_type": "stream",
     "text": [
      "LR=0.000438850374960721 Loss=0.015579749830067158 Batch_id=468 Accuracy=99.21: 100%|██████████| 469/469 [00:06<00:00, 75.04it/s]  \n"
     ]
    },
    {
     "name": "stdout",
     "output_type": "stream",
     "text": [
      "\n",
      "Test set: Average loss: 0.0169, Accuracy: 9948/10000 (99.48%)\n",
      "\n",
      "EPOCH: 12\n"
     ]
    },
    {
     "name": "stderr",
     "output_type": "stream",
     "text": [
      "LR=0.0002006554192574164 Loss=0.012115404941141605 Batch_id=468 Accuracy=99.28: 100%|██████████| 469/469 [00:06<00:00, 74.37it/s]  \n"
     ]
    },
    {
     "name": "stdout",
     "output_type": "stream",
     "text": [
      "\n",
      "Test set: Average loss: 0.0175, Accuracy: 9943/10000 (99.43%)\n",
      "\n",
      "EPOCH: 13\n"
     ]
    },
    {
     "name": "stderr",
     "output_type": "stream",
     "text": [
      "LR=5.101273836411788e-05 Loss=0.02253730408847332 Batch_id=468 Accuracy=99.36: 100%|██████████| 469/469 [00:06<00:00, 75.38it/s]   \n"
     ]
    },
    {
     "name": "stdout",
     "output_type": "stream",
     "text": [
      "\n",
      "Test set: Average loss: 0.0171, Accuracy: 9946/10000 (99.46%)\n",
      "\n",
      "EPOCH: 14\n"
     ]
    },
    {
     "name": "stderr",
     "output_type": "stream",
     "text": [
      "LR=1.2023368748134843e-07 Loss=0.0024191683623939753 Batch_id=468 Accuracy=99.32: 100%|██████████| 469/469 [00:06<00:00, 73.53it/s]\n"
     ]
    },
    {
     "name": "stdout",
     "output_type": "stream",
     "text": [
      "\n",
      "Test set: Average loss: 0.0171, Accuracy: 9944/10000 (99.44%)\n",
      "\n"
     ]
    }
   ],
   "source": [
    "from torch.optim.lr_scheduler import StepLR\n",
    "EPOCHS = 15\n",
    "model =  SimpleMnistModel().to(device)\n",
    "optimizer = optim.Adam(model.parameters(), lr=0.003, weight_decay=5e-5)\n",
    "scheduler = optim.lr_scheduler.OneCycleLR(\n",
    "        optimizer,\n",
    "        max_lr=0.003,\n",
    "        epochs=EPOCHS,\n",
    "        steps_per_epoch=len(train_loader),\n",
    "        pct_start=0.2,\n",
    "        anneal_strategy='cos',\n",
    "        div_factor=25.0,\n",
    "        final_div_factor=1000.0\n",
    "    )\n",
    "sch_dict = scheduler.state_dict()\n",
    "sch_dict['total_steps'] = sch_dict['total_steps'] + EPOCHS * int(len(train_loader))\n",
    "scheduler.load_state_dict(sch_dict)\n",
    "\n",
    "EPOCHS = 15\n",
    "for epoch in range(EPOCHS):\n",
    "    print(\"EPOCH:\", epoch)\n",
    "    train(model, device, train_loader, optimizer, scheduler)\n",
    "    test(model, device, test_loader)"
   ]
  },
  {
   "cell_type": "code",
   "execution_count": null,
   "metadata": {},
   "outputs": [],
   "source": []
  }
 ],
 "metadata": {
  "kernelspec": {
   "display_name": "pytorch_env",
   "language": "python",
   "name": "python3"
  },
  "language_info": {
   "codemirror_mode": {
    "name": "ipython",
    "version": 3
   },
   "file_extension": ".py",
   "mimetype": "text/x-python",
   "name": "python",
   "nbconvert_exporter": "python",
   "pygments_lexer": "ipython3",
   "version": "3.10.15"
  }
 },
 "nbformat": 4,
 "nbformat_minor": 2
}
